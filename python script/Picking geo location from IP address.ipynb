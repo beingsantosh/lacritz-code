{
 "cells": [
  {
   "cell_type": "code",
   "execution_count": 10,
   "id": "detailed-extraction",
   "metadata": {
    "ExecuteTime": {
     "end_time": "2021-04-05T12:10:29.011529Z",
     "start_time": "2021-04-05T12:10:28.993530Z"
    }
   },
   "outputs": [],
   "source": [
    "from urllib.request import urlopen\n",
    "from json import load"
   ]
  },
  {
   "cell_type": "code",
   "execution_count": 11,
   "id": "visible-share",
   "metadata": {
    "ExecuteTime": {
     "end_time": "2021-04-05T12:10:29.631531Z",
     "start_time": "2021-04-05T12:10:29.618533Z"
    }
   },
   "outputs": [],
   "source": [
    "def picking_geoLocation(addr):\n",
    "   \n",
    "    if addr == '':\n",
    "        url = 'https://ipinfo.io/json'\n",
    "    else:\n",
    "        url = 'https://ipinfo.io/' + addr + '/json'\n",
    "    res = urlopen(url)\n",
    "    data = load(res)\n",
    "    return data"
   ]
  },
  {
   "cell_type": "code",
   "execution_count": 12,
   "id": "unlike-expansion",
   "metadata": {
    "ExecuteTime": {
     "end_time": "2021-04-05T12:10:31.230301Z",
     "start_time": "2021-04-05T12:10:30.553530Z"
    }
   },
   "outputs": [
    {
     "data": {
      "text/plain": [
       "{'ip': '94.134.92.219',\n",
       " 'hostname': 'i5e865cdb.versanet.de',\n",
       " 'city': 'Nürnberg',\n",
       " 'region': 'Bavaria',\n",
       " 'country': 'DE',\n",
       " 'loc': '49.4542,11.0775',\n",
       " 'org': 'AS8881 1&1 Versatel Deutschland GmbH',\n",
       " 'postal': '90402',\n",
       " 'timezone': 'Europe/Berlin',\n",
       " 'readme': 'https://ipinfo.io/missingauth'}"
      ]
     },
     "execution_count": 12,
     "metadata": {},
     "output_type": "execute_result"
    }
   ],
   "source": [
    "picking_geoLocation('94.134.92.219')"
   ]
  },
  {
   "cell_type": "code",
   "execution_count": 16,
   "id": "changing-highway",
   "metadata": {
    "ExecuteTime": {
     "end_time": "2021-04-05T12:12:22.051895Z",
     "start_time": "2021-04-05T12:12:21.806876Z"
    }
   },
   "outputs": [
    {
     "data": {
      "text/plain": [
       "{'ip': '95.223.182.163',\n",
       " 'hostname': 'ip-95-223-182-163.hsi16.unitymediagroup.de',\n",
       " 'city': 'Bonn',\n",
       " 'region': 'North Rhine-Westphalia',\n",
       " 'country': 'DE',\n",
       " 'loc': '50.7344,7.0955',\n",
       " 'org': 'AS3209 Vodafone GmbH',\n",
       " 'postal': '53111',\n",
       " 'timezone': 'Europe/Berlin',\n",
       " 'readme': 'https://ipinfo.io/missingauth'}"
      ]
     },
     "execution_count": 16,
     "metadata": {},
     "output_type": "execute_result"
    }
   ],
   "source": [
    "picking_geoLocation('95.223.182.163')"
   ]
  },
  {
   "cell_type": "code",
   "execution_count": 15,
   "id": "cardiovascular-semester",
   "metadata": {
    "ExecuteTime": {
     "end_time": "2021-04-05T12:11:42.438033Z",
     "start_time": "2021-04-05T12:11:42.208472Z"
    }
   },
   "outputs": [
    {
     "data": {
      "text/plain": [
       "{'ip': '196.15.23.13',\n",
       " 'city': 'Bengaluru',\n",
       " 'region': 'Karnataka',\n",
       " 'country': 'IN',\n",
       " 'loc': '12.9719,77.5937',\n",
       " 'org': 'AS38538 Oracle India Developement Centre.',\n",
       " 'postal': '560002',\n",
       " 'timezone': 'Asia/Kolkata',\n",
       " 'readme': 'https://ipinfo.io/missingauth'}"
      ]
     },
     "execution_count": 15,
     "metadata": {},
     "output_type": "execute_result"
    }
   ],
   "source": [
    "picking_geoLocation('196.15.23.13')"
   ]
  }
 ],
 "metadata": {
  "kernelspec": {
   "display_name": "Python 3",
   "language": "python",
   "name": "python3"
  },
  "language_info": {
   "codemirror_mode": {
    "name": "ipython",
    "version": 3
   },
   "file_extension": ".py",
   "mimetype": "text/x-python",
   "name": "python",
   "nbconvert_exporter": "python",
   "pygments_lexer": "ipython3",
   "version": "3.8.5"
  }
 },
 "nbformat": 4,
 "nbformat_minor": 5
}
