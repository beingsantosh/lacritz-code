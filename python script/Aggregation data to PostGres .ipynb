{
 "cells": [
  {
   "cell_type": "code",
   "execution_count": 14,
   "id": "conventional-porter",
   "metadata": {
    "ExecuteTime": {
     "end_time": "2021-04-21T21:00:22.779981Z",
     "start_time": "2021-04-21T21:00:22.769958Z"
    }
   },
   "outputs": [],
   "source": [
    "import pandas as pd\n",
    "import psycopg2\n",
    "import ast"
   ]
  },
  {
   "cell_type": "code",
   "execution_count": null,
   "id": "honest-significance",
   "metadata": {
    "ExecuteTime": {
     "end_time": "2021-04-19T10:08:21.081886Z",
     "start_time": "2021-04-19T10:08:21.062106Z"
    }
   },
   "outputs": [],
   "source": []
  },
  {
   "cell_type": "code",
   "execution_count": 6,
   "id": "prompt-renaissance",
   "metadata": {
    "ExecuteTime": {
     "end_time": "2021-04-21T20:55:41.716373Z",
     "start_time": "2021-04-21T20:55:41.701622Z"
    }
   },
   "outputs": [],
   "source": [
    "a = float(\"NaN\")\n",
    "postgres_insert_query = f\"\"\" INSERT INTO session_7d_data (session_id, \n",
    "                               dm_URL , \n",
    "                               dm_Title , \n",
    "                               dm_Language , \n",
    "                               dm_UserAgent ,\n",
    "                               dm_referrer , \n",
    "                               tm_Duration , \n",
    "                               tm_DurationMoreThan1day ,\n",
    "                               tm_SessionStarted , \n",
    "                               tm_SessionEnded , \n",
    "                               geo_IP , \n",
    "                               geo_City ,       \n",
    "                               geo_Country , \n",
    "                               env_UserId , \n",
    "                               cn_UserDataType ) VALUES ('{a}','a','sa','sd','ds','ee',3,2,NOW(),NOW(),'123.22',\n",
    "\t\t\t\t\t\t\t\t\t\t\t\t\t\t'sds','sds','sdds','sdsd')\"\"\""
   ]
  },
  {
   "cell_type": "code",
   "execution_count": 7,
   "id": "major-detective",
   "metadata": {
    "ExecuteTime": {
     "end_time": "2021-04-21T20:55:43.266397Z",
     "start_time": "2021-04-21T20:55:43.259374Z"
    }
   },
   "outputs": [],
   "source": [
    "postgres_insert_query = f\"\"\" INSERT INTO session_7d_data (session_id,     \n",
    "                                        country,\n",
    "                                        city,\n",
    "                                        transaction_date,\n",
    "                                        language_cd,\n",
    "                                        region,\n",
    "                                        sessionduration,\n",
    "                                        user_cd\n",
    "                                        ) values \n",
    "                                        ('wewe3','test','test',now(),{'NULL'},'test',12,'test')\"\"\""
   ]
  },
  {
   "cell_type": "code",
   "execution_count": 48,
   "id": "unknown-obligation",
   "metadata": {
    "ExecuteTime": {
     "end_time": "2021-04-21T21:48:33.177278Z",
     "start_time": "2021-04-21T21:48:33.154322Z"
    }
   },
   "outputs": [
    {
     "data": {
      "text/plain": [
       "Index(['session_id', 'dm_URL', 'dm_URL_count', 'dm_Title', 'dm_Language',\n",
       "       'dm_UserAgent', 'dm_Browser', 'dm_Operating_sys', 'dm_Opsys_ver',\n",
       "       'dm_mobile_model', 'dm_Referrer', 'tm_Date', 'tm_Duration',\n",
       "       'tm_DurationMoreThan1day', 'tm_SessionStarted', 'tm_SessionEnded',\n",
       "       'geo_IP', 'geo_City', 'geo_Region', 'geo_Country', 'env_UserId',\n",
       "       'cn_UserDataType'],\n",
       "      dtype='object')"
      ]
     },
     "execution_count": 48,
     "metadata": {},
     "output_type": "execute_result"
    }
   ],
   "source": [
    "df_ = pd.read_csv('df_pivot_session.csv')\n",
    "df_.rename(columns={'Unnamed: 0':'session_id'},inplace=True)\n",
    "df_.columns"
   ]
  },
  {
   "cell_type": "code",
   "execution_count": 79,
   "id": "necessary-cooper",
   "metadata": {
    "ExecuteTime": {
     "end_time": "2021-04-21T22:05:58.190371Z",
     "start_time": "2021-04-21T22:05:54.734120Z"
    }
   },
   "outputs": [
    {
     "name": "stdout",
     "output_type": "stream",
     "text": [
      "0\n",
      "1.2\n",
      "PostgreSQL connection is closed\n"
     ]
    }
   ],
   "source": [
    "df_ = pd.read_csv('df_pivot_session.csv')\n",
    "df_.rename(columns={'Unnamed: 0':'session_id'},inplace=True)\n",
    "print(0)\n",
    "try:\n",
    "    conn = psycopg2.connect(host=\"85.214.144.66\", database = \"sample\", user=\"ecomusr\", password=\"ecomusr#123\", port=5432)\n",
    "    cur = conn.cursor()\n",
    "    print(1.2)\n",
    "\n",
    "    df_.tm_Date = df_.tm_Date.apply(lambda x : sorted(ast.literal_eval(x),reverse=False)[0] if len(x)>10 else x)\n",
    "    df_.dm_Language = df_.dm_Language.apply(lambda x : ast.literal_eval(x)[0] if len(ast.literal_eval(x))>0 else float(\"NaN\"))\n",
    "    df_.geo_City=df_.geo_City.apply(lambda x : ast.literal_eval(x)[1] if '[' in str(x) else x ).value_counts()\n",
    "    df_.dm_URL = df_.dm_URL.apply(ast.literal_eval).apply(lambda x: ';'.join(x))\n",
    "    df_.dm_Title = df_.dm_Title.apply(ast.literal_eval).apply(lambda x: ';'.join(x))\n",
    "    df_.dm_Referrer = df_.dm_Referrer.apply(lambda x : ast.literal_eval(x)[0] if not x!=x else x)\n",
    "    \n",
    "    df_.geo_IP = df_.geo_IP.apply(lambda x: ';'.join(ast.literal_eval(x)) if '[' in x else x )\n",
    "    \n",
    "    \n",
    "    for index, content in df_.iterrows():\n",
    "        \n",
    "        li = (content.session_id,\n",
    "             content.geo_Country,\n",
    "             content.geo_City,\n",
    "             content.tm_Date,\n",
    "             content.dm_Language,\n",
    "             content.geo_Region,\n",
    "             content.tm_Duration,\n",
    "             content.env_UserId,\n",
    "             content.dm_URL,\n",
    "             content.dm_URL_count,\n",
    "             content.dm_Title,\n",
    "             content.dm_Browser,\n",
    "             content.dm_Operating_sys,\n",
    "             content.dm_Opsys_ver,\n",
    "             content.dm_mobile_model,\n",
    "             content.dm_Referrer,\n",
    "             content.tm_DurationMoreThan1day,\n",
    "             content.tm_SessionStarted,\n",
    "             content.tm_SessionEnded,\n",
    "             content.geo_IP,\n",
    "             content.cn_UserDataType\n",
    "             )\n",
    "              \n",
    "        postgres_insert_query = f\"\"\" INSERT INTO session_7d_data (session_id,     \n",
    "                                        country,\n",
    "                                        city,\n",
    "                                        transaction_date,\n",
    "                                        language_cd,\n",
    "                                        region,\n",
    "                                        sessionduration,\n",
    "                                        user_cd,\n",
    "                                        url_visited,\n",
    "                                        dm_URL_count,\n",
    "                                        dm_Title,\n",
    "                                        dm_Browser,\n",
    "                                        dm_operating_sys,\n",
    "                                        dm_opsys_ver,\n",
    "                                        dm_mobile_model,\n",
    "                                        dm_referrer,\n",
    "                                        tm_durationmorethan1day,\n",
    "                                        tm_sessionstarted,\n",
    "                                        tm_sessionended,\n",
    "                                        geo_IP,\n",
    "                                        cn_UserDataType) values \n",
    "                                        {li}\"\"\"\n",
    "        postgres_insert_query = postgres_insert_query.replace(\"nan\", \"null\")\n",
    "\n",
    "        #print(postgres_insert_query)\n",
    "        cur.execute(postgres_insert_query)\n",
    "    \n",
    "    conn.commit()\n",
    "    #print(3)\n",
    "except (Exception, psycopg2.Error) as error:\n",
    "    print(\"Error while fetching data from PostgreSQL\", error)\n",
    "    print(postgres_insert_query)\n",
    "\n",
    "if conn:\n",
    "    cur.close()\n",
    "    conn.close()\n",
    "    print(\"PostgreSQL connection is closed\")\n",
    "\n"
   ]
  },
  {
   "cell_type": "code",
   "execution_count": 26,
   "id": "turkish-keeping",
   "metadata": {
    "ExecuteTime": {
     "end_time": "2021-04-19T08:54:51.691788Z",
     "start_time": "2021-04-19T08:54:51.682182Z"
    }
   },
   "outputs": [],
   "source": [
    "def insert_query(li):\n",
    "    # li is tuple\n",
    "    postgres_insert_query = f\"\"\" INSERT INTO session_7d_data (session_id,     \n",
    "                                    country,\n",
    "                                    city,\n",
    "                                    transaction_date,\n",
    "                                    language_cd,\n",
    "                                    region,\n",
    "                                    sessionduration,\n",
    "                                    user_cd,\n",
    "                                    device_type,\n",
    "                                    operating_system,\n",
    "                                    browser_id) values \n",
    "                                    {li}\"\"\"\n",
    "\n",
    "\n",
    "\n"
   ]
  },
  {
   "cell_type": "code",
   "execution_count": 77,
   "id": "muslim-gates",
   "metadata": {
    "ExecuteTime": {
     "end_time": "2021-04-19T09:34:17.114484Z",
     "start_time": "2021-04-19T09:34:15.783650Z"
    }
   },
   "outputs": [
    {
     "name": "stdout",
     "output_type": "stream",
     "text": [
      "PostgreSQL connection is closed\n"
     ]
    }
   ],
   "source": [
    "try:\n",
    "    conn = psycopg2.connect(host=\"85.214.144.66\", database = \"sample\", user=\"ecomusr\", password=\"ecomusr#123\", port=5432)\n",
    "    cur = conn.cursor()\n",
    "\n",
    "    #postgreSQL_select_Query = \"select * from film\"\n",
    "    cur.execute(postgres_insert_query)\n",
    "    #mobile_records=cur.fetchall()\n",
    "    conn.commit()\n",
    "except (Exception, psycopg2.Error) as error:\n",
    "    print(\"Error while fetching data from PostgreSQL\", error)\n",
    "    \n",
    "if conn:\n",
    "    cur.close()\n",
    "    conn.close()\n",
    "    print(\"PostgreSQL connection is closed\")"
   ]
  },
  {
   "cell_type": "code",
   "execution_count": 24,
   "id": "anticipated-times",
   "metadata": {
    "ExecuteTime": {
     "end_time": "2021-04-19T08:51:44.495384Z",
     "start_time": "2021-04-19T08:51:44.484764Z"
    }
   },
   "outputs": [
    {
     "data": {
      "text/plain": [
       "\" INSERT INTO df_pivot_session (session_id, \\n                               dm_URL , \\n                               dm_Title , \\n                               dm_Language , \\n                               dm_UserAgent ,\\n                               dm_referrer , \\n                               tm_Duration , \\n                               tm_DurationMoreThan1day ,\\n                               tm_SessionStarted , \\n                               tm_SessionEnded , \\n                               geo_IP , \\n                               geo_City ,       \\n                               geo_Country , \\n                               env_UserId , \\n                               cn_UserDataType ) VALUES ('sasas','a','sa','sd','ds','ee',3,2,NOW(),NOW(),'123.22',\\n\\t\\t\\t\\t\\t\\t\\t\\t\\t\\t\\t\\t\\t\\t'sds','sds','sdds','sdsd')\""
      ]
     },
     "execution_count": 24,
     "metadata": {},
     "output_type": "execute_result"
    }
   ],
   "source": [
    "postgres_insert_query"
   ]
  },
  {
   "cell_type": "code",
   "execution_count": 79,
   "id": "synthetic-chuck",
   "metadata": {
    "ExecuteTime": {
     "end_time": "2021-04-19T09:34:48.378195Z",
     "start_time": "2021-04-19T09:34:48.367294Z"
    }
   },
   "outputs": [
    {
     "data": {
      "text/plain": [
       "\" INSERT INTO session_7d_data (session_id,     \\n                                        country,\\n                                        city,\\n                                        transaction_date,\\n                                        language_cd,\\n                                        region,\\n                                        sessionduration,\\n                                        user_cd\\n                                        ) values \\n                                        ('wewe3','test','test',now(),NULL,'test',12,'test')\""
      ]
     },
     "execution_count": 79,
     "metadata": {},
     "output_type": "execute_result"
    }
   ],
   "source": [
    "postgres_insert_query"
   ]
  },
  {
   "cell_type": "code",
   "execution_count": 49,
   "id": "moved-tissue",
   "metadata": {
    "ExecuteTime": {
     "end_time": "2021-04-19T09:24:58.457968Z",
     "start_time": "2021-04-19T09:24:58.447159Z"
    }
   },
   "outputs": [
    {
     "data": {
      "text/plain": [
       "10"
      ]
     },
     "execution_count": 49,
     "metadata": {},
     "output_type": "execute_result"
    }
   ],
   "source": [
    "len(li)"
   ]
  },
  {
   "cell_type": "code",
   "execution_count": 81,
   "id": "designed-tuner",
   "metadata": {
    "ExecuteTime": {
     "end_time": "2021-04-19T09:35:08.842537Z",
     "start_time": "2021-04-19T09:35:08.817947Z"
    }
   },
   "outputs": [
    {
     "ename": "NameError",
     "evalue": "name 'NULL' is not defined",
     "output_type": "error",
     "traceback": [
      "\u001b[1;31m---------------------------------------------------------------------------\u001b[0m",
      "\u001b[1;31mNameError\u001b[0m                                 Traceback (most recent call last)",
      "\u001b[1;32m<ipython-input-81-7998c16a7522>\u001b[0m in \u001b[0;36m<module>\u001b[1;34m\u001b[0m\n\u001b[1;32m----> 1\u001b[1;33m \u001b[0mNULL\u001b[0m\u001b[1;33m\u001b[0m\u001b[1;33m\u001b[0m\u001b[0m\n\u001b[0m",
      "\u001b[1;31mNameError\u001b[0m: name 'NULL' is not defined"
     ]
    }
   ],
   "source": [
    "NULL"
   ]
  },
  {
   "cell_type": "code",
   "execution_count": 160,
   "id": "subject-creation",
   "metadata": {
    "ExecuteTime": {
     "end_time": "2021-04-19T10:07:35.565261Z",
     "start_time": "2021-04-19T10:07:35.537632Z"
    }
   },
   "outputs": [
    {
     "data": {
      "text/plain": [
       "Sankt Augustin          30\n",
       "Bengaluru               18\n",
       "Bonn                    13\n",
       "Wiesloch                 9\n",
       "Nūzvīd                   5\n",
       "Ingolstadt               4\n",
       "Aizawl                   3\n",
       "Chandampet               3\n",
       "Andol                    3\n",
       "Mountain View            1\n",
       "Santa Clara              1\n",
       "Garching bei München     1\n",
       "Name: geo_City, dtype: int64"
      ]
     },
     "execution_count": 160,
     "metadata": {},
     "output_type": "execute_result"
    }
   ],
   "source": [
    "\n"
   ]
  },
  {
   "cell_type": "code",
   "execution_count": 92,
   "id": "dress-monitoring",
   "metadata": {
    "ExecuteTime": {
     "end_time": "2021-04-19T09:41:20.635945Z",
     "start_time": "2021-04-19T09:41:20.625562Z"
    }
   },
   "outputs": [],
   "source": []
  },
  {
   "cell_type": "code",
   "execution_count": 149,
   "id": "dynamic-cannon",
   "metadata": {
    "ExecuteTime": {
     "end_time": "2021-04-19T10:03:31.272314Z",
     "start_time": "2021-04-19T10:03:31.253037Z"
    }
   },
   "outputs": [
    {
     "data": {
      "text/plain": [
       "True"
      ]
     },
     "execution_count": 149,
     "metadata": {},
     "output_type": "execute_result"
    }
   ],
   "source": [
    "'Bengaluru' in "
   ]
  },
  {
   "cell_type": "code",
   "execution_count": 144,
   "id": "juvenile-yorkshire",
   "metadata": {
    "ExecuteTime": {
     "end_time": "2021-04-19T10:02:25.539317Z",
     "start_time": "2021-04-19T10:02:25.523992Z"
    }
   },
   "outputs": [
    {
     "data": {
      "text/plain": [
       "{'Bengaluru'}"
      ]
     },
     "execution_count": 144,
     "metadata": {},
     "output_type": "execute_result"
    }
   ],
   "source": [
    "set(['Bengaluru'])"
   ]
  },
  {
   "cell_type": "code",
   "execution_count": 148,
   "id": "swedish-silence",
   "metadata": {
    "ExecuteTime": {
     "end_time": "2021-04-19T10:03:22.061339Z",
     "start_time": "2021-04-19T10:03:22.043078Z"
    }
   },
   "outputs": [
    {
     "data": {
      "text/plain": [
       "[nan,\n",
       " 'Mountain View',\n",
       " 'Chandampet',\n",
       " 'Nūzvīd',\n",
       " \"['Nūzvīd', 'Bengaluru']\",\n",
       " 'Andol',\n",
       " 'Bengaluru',\n",
       " 'Bonn',\n",
       " 'Garching bei München',\n",
       " 'Sankt Augustin',\n",
       " 'Ingolstadt',\n",
       " 'Aizawl',\n",
       " 'Santa Clara',\n",
       " 'Wiesloch']"
      ]
     },
     "execution_count": 148,
     "metadata": {},
     "output_type": "execute_result"
    }
   ],
   "source": [
    "list(df_.geo_City.unique())"
   ]
  },
  {
   "cell_type": "code",
   "execution_count": 3,
   "id": "happy-logistics",
   "metadata": {
    "ExecuteTime": {
     "end_time": "2021-04-21T09:08:11.749990Z",
     "start_time": "2021-04-21T09:08:11.724104Z"
    }
   },
   "outputs": [],
   "source": [
    "df_ = pd.read_csv('df_pivot_session.csv')\n",
    "df_.rename(columns={'Unnamed: 0':'session_id'},inplace=True)"
   ]
  },
  {
   "cell_type": "code",
   "execution_count": 33,
   "id": "limited-nicaragua",
   "metadata": {
    "ExecuteTime": {
     "end_time": "2021-04-21T21:41:37.113739Z",
     "start_time": "2021-04-21T21:41:37.088750Z"
    }
   },
   "outputs": [
    {
     "data": {
      "text/plain": [
       "0                                   [http://localhost/]\n",
       "1     [http://mytravelexp.com/, https://mytravelexp....\n",
       "2                             [http://mytravelexp.com/]\n",
       "3         [https://mytravelexp.com/travel-around-asia/]\n",
       "4                       [https://mytravelexp.com/blog/]\n",
       "                            ...                        \n",
       "87                           [https://mytravelexp.com/]\n",
       "88                           [https://mytravelexp.com/]\n",
       "89                           [https://mytravelexp.com/]\n",
       "90                           [https://mytravelexp.com/]\n",
       "91                           [https://mytravelexp.com/]\n",
       "Name: dm_URL, Length: 92, dtype: object"
      ]
     },
     "execution_count": 33,
     "metadata": {},
     "output_type": "execute_result"
    }
   ],
   "source": []
  },
  {
   "cell_type": "code",
   "execution_count": 27,
   "id": "secure-techno",
   "metadata": {
    "ExecuteTime": {
     "end_time": "2021-04-21T21:40:46.604458Z",
     "start_time": "2021-04-21T21:40:46.600496Z"
    }
   },
   "outputs": [],
   "source": [
    "import numpy as np"
   ]
  },
  {
   "cell_type": "code",
   "execution_count": 73,
   "id": "verbal-water",
   "metadata": {
    "ExecuteTime": {
     "end_time": "2021-04-21T22:00:13.691446Z",
     "start_time": "2021-04-21T22:00:13.670458Z"
    }
   },
   "outputs": [
    {
     "ename": "ValueError",
     "evalue": "malformed node or string: nan",
     "output_type": "error",
     "traceback": [
      "\u001b[1;31m---------------------------------------------------------------------------\u001b[0m",
      "\u001b[1;31mValueError\u001b[0m                                Traceback (most recent call last)",
      "\u001b[1;32m<ipython-input-73-be6bb2c5888b>\u001b[0m in \u001b[0;36m<module>\u001b[1;34m\u001b[0m\n\u001b[1;32m----> 1\u001b[1;33m \u001b[0mdf_\u001b[0m\u001b[1;33m.\u001b[0m\u001b[0mdm_Referrer\u001b[0m\u001b[1;33m.\u001b[0m\u001b[0mapply\u001b[0m\u001b[1;33m(\u001b[0m\u001b[0mast\u001b[0m\u001b[1;33m.\u001b[0m\u001b[0mliteral_eval\u001b[0m\u001b[1;33m)\u001b[0m\u001b[1;33m.\u001b[0m\u001b[0mapply\u001b[0m\u001b[1;33m(\u001b[0m\u001b[1;32mlambda\u001b[0m \u001b[0mx\u001b[0m\u001b[1;33m:\u001b[0m \u001b[1;34m';'\u001b[0m\u001b[1;33m.\u001b[0m\u001b[0mjoin\u001b[0m\u001b[1;33m(\u001b[0m\u001b[0mx\u001b[0m\u001b[1;33m)\u001b[0m\u001b[1;33m)\u001b[0m\u001b[1;33m\u001b[0m\u001b[1;33m\u001b[0m\u001b[0m\n\u001b[0m",
      "\u001b[1;32mE:\\SoftwareBinaries\\miniconda\\envs\\test_env\\lib\\site-packages\\pandas\\core\\series.py\u001b[0m in \u001b[0;36mapply\u001b[1;34m(self, func, convert_dtype, args, **kwds)\u001b[0m\n\u001b[0;32m   4211\u001b[0m             \u001b[1;32melse\u001b[0m\u001b[1;33m:\u001b[0m\u001b[1;33m\u001b[0m\u001b[1;33m\u001b[0m\u001b[0m\n\u001b[0;32m   4212\u001b[0m                 \u001b[0mvalues\u001b[0m \u001b[1;33m=\u001b[0m \u001b[0mself\u001b[0m\u001b[1;33m.\u001b[0m\u001b[0mastype\u001b[0m\u001b[1;33m(\u001b[0m\u001b[0mobject\u001b[0m\u001b[1;33m)\u001b[0m\u001b[1;33m.\u001b[0m\u001b[0m_values\u001b[0m\u001b[1;33m\u001b[0m\u001b[1;33m\u001b[0m\u001b[0m\n\u001b[1;32m-> 4213\u001b[1;33m                 \u001b[0mmapped\u001b[0m \u001b[1;33m=\u001b[0m \u001b[0mlib\u001b[0m\u001b[1;33m.\u001b[0m\u001b[0mmap_infer\u001b[0m\u001b[1;33m(\u001b[0m\u001b[0mvalues\u001b[0m\u001b[1;33m,\u001b[0m \u001b[0mf\u001b[0m\u001b[1;33m,\u001b[0m \u001b[0mconvert\u001b[0m\u001b[1;33m=\u001b[0m\u001b[0mconvert_dtype\u001b[0m\u001b[1;33m)\u001b[0m\u001b[1;33m\u001b[0m\u001b[1;33m\u001b[0m\u001b[0m\n\u001b[0m\u001b[0;32m   4214\u001b[0m \u001b[1;33m\u001b[0m\u001b[0m\n\u001b[0;32m   4215\u001b[0m         \u001b[1;32mif\u001b[0m \u001b[0mlen\u001b[0m\u001b[1;33m(\u001b[0m\u001b[0mmapped\u001b[0m\u001b[1;33m)\u001b[0m \u001b[1;32mand\u001b[0m \u001b[0misinstance\u001b[0m\u001b[1;33m(\u001b[0m\u001b[0mmapped\u001b[0m\u001b[1;33m[\u001b[0m\u001b[1;36m0\u001b[0m\u001b[1;33m]\u001b[0m\u001b[1;33m,\u001b[0m \u001b[0mSeries\u001b[0m\u001b[1;33m)\u001b[0m\u001b[1;33m:\u001b[0m\u001b[1;33m\u001b[0m\u001b[1;33m\u001b[0m\u001b[0m\n",
      "\u001b[1;32mpandas\\_libs\\lib.pyx\u001b[0m in \u001b[0;36mpandas._libs.lib.map_infer\u001b[1;34m()\u001b[0m\n",
      "\u001b[1;32mE:\\SoftwareBinaries\\miniconda\\envs\\test_env\\lib\\ast.py\u001b[0m in \u001b[0;36mliteral_eval\u001b[1;34m(node_or_string)\u001b[0m\n\u001b[0;32m     97\u001b[0m                     \u001b[1;32mreturn\u001b[0m \u001b[0mleft\u001b[0m \u001b[1;33m-\u001b[0m \u001b[0mright\u001b[0m\u001b[1;33m\u001b[0m\u001b[1;33m\u001b[0m\u001b[0m\n\u001b[0;32m     98\u001b[0m         \u001b[1;32mreturn\u001b[0m \u001b[0m_convert_signed_num\u001b[0m\u001b[1;33m(\u001b[0m\u001b[0mnode\u001b[0m\u001b[1;33m)\u001b[0m\u001b[1;33m\u001b[0m\u001b[1;33m\u001b[0m\u001b[0m\n\u001b[1;32m---> 99\u001b[1;33m     \u001b[1;32mreturn\u001b[0m \u001b[0m_convert\u001b[0m\u001b[1;33m(\u001b[0m\u001b[0mnode_or_string\u001b[0m\u001b[1;33m)\u001b[0m\u001b[1;33m\u001b[0m\u001b[1;33m\u001b[0m\u001b[0m\n\u001b[0m\u001b[0;32m    100\u001b[0m \u001b[1;33m\u001b[0m\u001b[0m\n\u001b[0;32m    101\u001b[0m \u001b[1;33m\u001b[0m\u001b[0m\n",
      "\u001b[1;32mE:\\SoftwareBinaries\\miniconda\\envs\\test_env\\lib\\ast.py\u001b[0m in \u001b[0;36m_convert\u001b[1;34m(node)\u001b[0m\n\u001b[0;32m     96\u001b[0m                 \u001b[1;32melse\u001b[0m\u001b[1;33m:\u001b[0m\u001b[1;33m\u001b[0m\u001b[1;33m\u001b[0m\u001b[0m\n\u001b[0;32m     97\u001b[0m                     \u001b[1;32mreturn\u001b[0m \u001b[0mleft\u001b[0m \u001b[1;33m-\u001b[0m \u001b[0mright\u001b[0m\u001b[1;33m\u001b[0m\u001b[1;33m\u001b[0m\u001b[0m\n\u001b[1;32m---> 98\u001b[1;33m         \u001b[1;32mreturn\u001b[0m \u001b[0m_convert_signed_num\u001b[0m\u001b[1;33m(\u001b[0m\u001b[0mnode\u001b[0m\u001b[1;33m)\u001b[0m\u001b[1;33m\u001b[0m\u001b[1;33m\u001b[0m\u001b[0m\n\u001b[0m\u001b[0;32m     99\u001b[0m     \u001b[1;32mreturn\u001b[0m \u001b[0m_convert\u001b[0m\u001b[1;33m(\u001b[0m\u001b[0mnode_or_string\u001b[0m\u001b[1;33m)\u001b[0m\u001b[1;33m\u001b[0m\u001b[1;33m\u001b[0m\u001b[0m\n\u001b[0;32m    100\u001b[0m \u001b[1;33m\u001b[0m\u001b[0m\n",
      "\u001b[1;32mE:\\SoftwareBinaries\\miniconda\\envs\\test_env\\lib\\ast.py\u001b[0m in \u001b[0;36m_convert_signed_num\u001b[1;34m(node)\u001b[0m\n\u001b[0;32m     73\u001b[0m             \u001b[1;32melse\u001b[0m\u001b[1;33m:\u001b[0m\u001b[1;33m\u001b[0m\u001b[1;33m\u001b[0m\u001b[0m\n\u001b[0;32m     74\u001b[0m                 \u001b[1;32mreturn\u001b[0m \u001b[1;33m-\u001b[0m \u001b[0moperand\u001b[0m\u001b[1;33m\u001b[0m\u001b[1;33m\u001b[0m\u001b[0m\n\u001b[1;32m---> 75\u001b[1;33m         \u001b[1;32mreturn\u001b[0m \u001b[0m_convert_num\u001b[0m\u001b[1;33m(\u001b[0m\u001b[0mnode\u001b[0m\u001b[1;33m)\u001b[0m\u001b[1;33m\u001b[0m\u001b[1;33m\u001b[0m\u001b[0m\n\u001b[0m\u001b[0;32m     76\u001b[0m     \u001b[1;32mdef\u001b[0m \u001b[0m_convert\u001b[0m\u001b[1;33m(\u001b[0m\u001b[0mnode\u001b[0m\u001b[1;33m)\u001b[0m\u001b[1;33m:\u001b[0m\u001b[1;33m\u001b[0m\u001b[1;33m\u001b[0m\u001b[0m\n\u001b[0;32m     77\u001b[0m         \u001b[1;32mif\u001b[0m \u001b[0misinstance\u001b[0m\u001b[1;33m(\u001b[0m\u001b[0mnode\u001b[0m\u001b[1;33m,\u001b[0m \u001b[0mConstant\u001b[0m\u001b[1;33m)\u001b[0m\u001b[1;33m:\u001b[0m\u001b[1;33m\u001b[0m\u001b[1;33m\u001b[0m\u001b[0m\n",
      "\u001b[1;32mE:\\SoftwareBinaries\\miniconda\\envs\\test_env\\lib\\ast.py\u001b[0m in \u001b[0;36m_convert_num\u001b[1;34m(node)\u001b[0m\n\u001b[0;32m     64\u001b[0m     \u001b[1;32mdef\u001b[0m \u001b[0m_convert_num\u001b[0m\u001b[1;33m(\u001b[0m\u001b[0mnode\u001b[0m\u001b[1;33m)\u001b[0m\u001b[1;33m:\u001b[0m\u001b[1;33m\u001b[0m\u001b[1;33m\u001b[0m\u001b[0m\n\u001b[0;32m     65\u001b[0m         \u001b[1;32mif\u001b[0m \u001b[1;32mnot\u001b[0m \u001b[0misinstance\u001b[0m\u001b[1;33m(\u001b[0m\u001b[0mnode\u001b[0m\u001b[1;33m,\u001b[0m \u001b[0mConstant\u001b[0m\u001b[1;33m)\u001b[0m \u001b[1;32mor\u001b[0m \u001b[0mtype\u001b[0m\u001b[1;33m(\u001b[0m\u001b[0mnode\u001b[0m\u001b[1;33m.\u001b[0m\u001b[0mvalue\u001b[0m\u001b[1;33m)\u001b[0m \u001b[1;32mnot\u001b[0m \u001b[1;32min\u001b[0m \u001b[1;33m(\u001b[0m\u001b[0mint\u001b[0m\u001b[1;33m,\u001b[0m \u001b[0mfloat\u001b[0m\u001b[1;33m,\u001b[0m \u001b[0mcomplex\u001b[0m\u001b[1;33m)\u001b[0m\u001b[1;33m:\u001b[0m\u001b[1;33m\u001b[0m\u001b[1;33m\u001b[0m\u001b[0m\n\u001b[1;32m---> 66\u001b[1;33m             \u001b[0m_raise_malformed_node\u001b[0m\u001b[1;33m(\u001b[0m\u001b[0mnode\u001b[0m\u001b[1;33m)\u001b[0m\u001b[1;33m\u001b[0m\u001b[1;33m\u001b[0m\u001b[0m\n\u001b[0m\u001b[0;32m     67\u001b[0m         \u001b[1;32mreturn\u001b[0m \u001b[0mnode\u001b[0m\u001b[1;33m.\u001b[0m\u001b[0mvalue\u001b[0m\u001b[1;33m\u001b[0m\u001b[1;33m\u001b[0m\u001b[0m\n\u001b[0;32m     68\u001b[0m     \u001b[1;32mdef\u001b[0m \u001b[0m_convert_signed_num\u001b[0m\u001b[1;33m(\u001b[0m\u001b[0mnode\u001b[0m\u001b[1;33m)\u001b[0m\u001b[1;33m:\u001b[0m\u001b[1;33m\u001b[0m\u001b[1;33m\u001b[0m\u001b[0m\n",
      "\u001b[1;32mE:\\SoftwareBinaries\\miniconda\\envs\\test_env\\lib\\ast.py\u001b[0m in \u001b[0;36m_raise_malformed_node\u001b[1;34m(node)\u001b[0m\n\u001b[0;32m     61\u001b[0m         \u001b[0mnode_or_string\u001b[0m \u001b[1;33m=\u001b[0m \u001b[0mnode_or_string\u001b[0m\u001b[1;33m.\u001b[0m\u001b[0mbody\u001b[0m\u001b[1;33m\u001b[0m\u001b[1;33m\u001b[0m\u001b[0m\n\u001b[0;32m     62\u001b[0m     \u001b[1;32mdef\u001b[0m \u001b[0m_raise_malformed_node\u001b[0m\u001b[1;33m(\u001b[0m\u001b[0mnode\u001b[0m\u001b[1;33m)\u001b[0m\u001b[1;33m:\u001b[0m\u001b[1;33m\u001b[0m\u001b[1;33m\u001b[0m\u001b[0m\n\u001b[1;32m---> 63\u001b[1;33m         \u001b[1;32mraise\u001b[0m \u001b[0mValueError\u001b[0m\u001b[1;33m(\u001b[0m\u001b[1;34mf'malformed node or string: {node!r}'\u001b[0m\u001b[1;33m)\u001b[0m\u001b[1;33m\u001b[0m\u001b[1;33m\u001b[0m\u001b[0m\n\u001b[0m\u001b[0;32m     64\u001b[0m     \u001b[1;32mdef\u001b[0m \u001b[0m_convert_num\u001b[0m\u001b[1;33m(\u001b[0m\u001b[0mnode\u001b[0m\u001b[1;33m)\u001b[0m\u001b[1;33m:\u001b[0m\u001b[1;33m\u001b[0m\u001b[1;33m\u001b[0m\u001b[0m\n\u001b[0;32m     65\u001b[0m         \u001b[1;32mif\u001b[0m \u001b[1;32mnot\u001b[0m \u001b[0misinstance\u001b[0m\u001b[1;33m(\u001b[0m\u001b[0mnode\u001b[0m\u001b[1;33m,\u001b[0m \u001b[0mConstant\u001b[0m\u001b[1;33m)\u001b[0m \u001b[1;32mor\u001b[0m \u001b[0mtype\u001b[0m\u001b[1;33m(\u001b[0m\u001b[0mnode\u001b[0m\u001b[1;33m.\u001b[0m\u001b[0mvalue\u001b[0m\u001b[1;33m)\u001b[0m \u001b[1;32mnot\u001b[0m \u001b[1;32min\u001b[0m \u001b[1;33m(\u001b[0m\u001b[0mint\u001b[0m\u001b[1;33m,\u001b[0m \u001b[0mfloat\u001b[0m\u001b[1;33m,\u001b[0m \u001b[0mcomplex\u001b[0m\u001b[1;33m)\u001b[0m\u001b[1;33m:\u001b[0m\u001b[1;33m\u001b[0m\u001b[1;33m\u001b[0m\u001b[0m\n",
      "\u001b[1;31mValueError\u001b[0m: malformed node or string: nan"
     ]
    }
   ],
   "source": [
    "df_.dm_Referrer.apply(ast.literal_eval).apply(lambda x: ';'.join(x))\n"
   ]
  },
  {
   "cell_type": "code",
   "execution_count": 77,
   "id": "filled-phone",
   "metadata": {
    "ExecuteTime": {
     "end_time": "2021-04-21T22:01:46.119657Z",
     "start_time": "2021-04-21T22:01:46.104661Z"
    }
   },
   "outputs": [
    {
     "data": {
      "text/plain": [
       "0                                             NaN\n",
       "1                                             NaN\n",
       "2                                             NaN\n",
       "3                         http://mytravelexp.com/\n",
       "4     https://mytravelexp.com/travel-around-asia/\n",
       "                         ...                     \n",
       "87                                            NaN\n",
       "88                                            NaN\n",
       "89                                            NaN\n",
       "90                                            NaN\n",
       "91                                            NaN\n",
       "Name: dm_Referrer, Length: 92, dtype: object"
      ]
     },
     "execution_count": 77,
     "metadata": {},
     "output_type": "execute_result"
    }
   ],
   "source": [
    "# df_.geo_IP.apply(ast.literal_eval).apply(lambda x: ';'.join(x))\n"
   ]
  },
  {
   "cell_type": "code",
   "execution_count": null,
   "id": "proof-swiss",
   "metadata": {},
   "outputs": [],
   "source": []
  }
 ],
 "metadata": {
  "kernelspec": {
   "display_name": "Python 3",
   "language": "python",
   "name": "python3"
  },
  "language_info": {
   "codemirror_mode": {
    "name": "ipython",
    "version": 3
   },
   "file_extension": ".py",
   "mimetype": "text/x-python",
   "name": "python",
   "nbconvert_exporter": "python",
   "pygments_lexer": "ipython3",
   "version": "3.8.5"
  }
 },
 "nbformat": 4,
 "nbformat_minor": 5
}
