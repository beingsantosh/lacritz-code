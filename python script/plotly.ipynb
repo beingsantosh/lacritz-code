{
 "cells": [
  {
   "cell_type": "code",
   "execution_count": 1,
   "id": "distributed-morning",
   "metadata": {
    "ExecuteTime": {
     "end_time": "2021-04-02T12:04:26.302620Z",
     "start_time": "2021-04-02T12:04:26.278668Z"
    }
   },
   "outputs": [],
   "source": [
    "import plotly as py"
   ]
  },
  {
   "cell_type": "code",
   "execution_count": 2,
   "id": "textile-restriction",
   "metadata": {
    "ExecuteTime": {
     "end_time": "2021-04-02T12:04:52.431945Z",
     "start_time": "2021-04-02T12:04:52.419807Z"
    }
   },
   "outputs": [],
   "source": [
    "import plotly.graph_objs as go"
   ]
  },
  {
   "cell_type": "code",
   "execution_count": 3,
   "id": "enabling-attempt",
   "metadata": {
    "ExecuteTime": {
     "end_time": "2021-04-02T12:05:25.496683Z",
     "start_time": "2021-04-02T12:05:25.356174Z"
    }
   },
   "outputs": [],
   "source": [
    "import ipywidgets as widgets"
   ]
  },
  {
   "cell_type": "code",
   "execution_count": 5,
   "id": "christian-guarantee",
   "metadata": {
    "ExecuteTime": {
     "end_time": "2021-04-02T12:06:06.637973Z",
     "start_time": "2021-04-02T12:06:06.342846Z"
    }
   },
   "outputs": [],
   "source": [
    "import numpy as np\n",
    "from scipy import special"
   ]
  },
  {
   "cell_type": "code",
   "execution_count": 6,
   "id": "official-footage",
   "metadata": {
    "ExecuteTime": {
     "end_time": "2021-04-02T12:06:24.731700Z",
     "start_time": "2021-04-02T12:06:24.375035Z"
    }
   },
   "outputs": [
    {
     "data": {
      "text/html": [
       "        <script type=\"text/javascript\">\n",
       "        window.PlotlyConfig = {MathJaxConfig: 'local'};\n",
       "        if (window.MathJax) {MathJax.Hub.Config({SVG: {font: \"STIX-Web\"}});}\n",
       "        if (typeof require !== 'undefined') {\n",
       "        require.undef(\"plotly\");\n",
       "        requirejs.config({\n",
       "            paths: {\n",
       "                'plotly': ['https://cdn.plot.ly/plotly-latest.min']\n",
       "            }\n",
       "        });\n",
       "        require(['plotly'], function(Plotly) {\n",
       "            window._Plotly = Plotly;\n",
       "        });\n",
       "        }\n",
       "        </script>\n",
       "        "
      ]
     },
     "metadata": {},
     "output_type": "display_data"
    }
   ],
   "source": [
    "py.offline.init_notebook_mode(connected=True)"
   ]
  },
  {
   "cell_type": "code",
   "execution_count": 8,
   "id": "threatened-mount",
   "metadata": {
    "ExecuteTime": {
     "end_time": "2021-04-02T12:07:12.570695Z",
     "start_time": "2021-04-02T12:07:12.557438Z"
    }
   },
   "outputs": [],
   "source": [
    "x = np.linspace(0,np.pi,1000)"
   ]
  },
  {
   "cell_type": "code",
   "execution_count": 10,
   "id": "tamil-persian",
   "metadata": {
    "ExecuteTime": {
     "end_time": "2021-04-02T12:07:23.577524Z",
     "start_time": "2021-04-02T12:07:23.563746Z"
    }
   },
   "outputs": [
    {
     "data": {
      "text/plain": [
       "(1000,)"
      ]
     },
     "execution_count": 10,
     "metadata": {},
     "output_type": "execute_result"
    }
   ],
   "source": [
    "x.shape"
   ]
  },
  {
   "cell_type": "code",
   "execution_count": 11,
   "id": "ancient-camping",
   "metadata": {
    "ExecuteTime": {
     "end_time": "2021-04-02T12:09:23.748843Z",
     "start_time": "2021-04-02T12:09:23.722641Z"
    }
   },
   "outputs": [
    {
     "ename": "TypeError",
     "evalue": "'module' object is not callable",
     "output_type": "error",
     "traceback": [
      "\u001b[1;31m---------------------------------------------------------------------------\u001b[0m",
      "\u001b[1;31mTypeError\u001b[0m                                 Traceback (most recent call last)",
      "\u001b[1;32m<ipython-input-11-cb3e0940b6cc>\u001b[0m in \u001b[0;36m<module>\u001b[1;34m\u001b[0m\n\u001b[1;32m----> 1\u001b[1;33m \u001b[0mgo\u001b[0m\u001b[1;33m.\u001b[0m\u001b[0mscatter\u001b[0m\u001b[1;33m(\u001b[0m\u001b[0mx\u001b[0m\u001b[1;33m=\u001b[0m\u001b[0mx\u001b[0m\u001b[1;33m,\u001b[0m\u001b[0my\u001b[0m\u001b[1;33m=\u001b[0m\u001b[0mnp\u001b[0m\u001b[1;33m.\u001b[0m\u001b[0msin\u001b[0m\u001b[1;33m(\u001b[0m\u001b[0mx\u001b[0m\u001b[1;33m)\u001b[0m\u001b[1;33m)\u001b[0m\u001b[1;33m\u001b[0m\u001b[1;33m\u001b[0m\u001b[0m\n\u001b[0m",
      "\u001b[1;31mTypeError\u001b[0m: 'module' object is not callable"
     ]
    }
   ],
   "source": [
    "go.scatter(x=x,y=np.sin(x))"
   ]
  },
  {
   "cell_type": "code",
   "execution_count": null,
   "id": "prescription-forge",
   "metadata": {},
   "outputs": [],
   "source": []
  }
 ],
 "metadata": {
  "kernelspec": {
   "display_name": "Python 3",
   "language": "python",
   "name": "python3"
  },
  "language_info": {
   "codemirror_mode": {
    "name": "ipython",
    "version": 3
   },
   "file_extension": ".py",
   "mimetype": "text/x-python",
   "name": "python",
   "nbconvert_exporter": "python",
   "pygments_lexer": "ipython3",
   "version": "3.8.5"
  }
 },
 "nbformat": 4,
 "nbformat_minor": 5
}
